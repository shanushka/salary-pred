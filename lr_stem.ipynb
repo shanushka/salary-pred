{
  "nbformat": 4,
  "nbformat_minor": 0,
  "metadata": {
    "colab": {
      "provenance": []
    },
    "kernelspec": {
      "name": "python3",
      "display_name": "Python 3"
    },
    "language_info": {
      "name": "python"
    }
  },
  "cells": [
    {
      "cell_type": "code",
      "execution_count": 7,
      "metadata": {
        "id": "88PL0in0JhyQ"
      },
      "outputs": [],
      "source": [
        "from sklearn.metrics import f1_score\n",
        "from sklearn.metrics import accuracy_score\n",
        "from sklearn.metrics import classification_report\n",
        "from sklearn.metrics import confusion_matrix\n",
        "from sklearn.linear_model import LogisticRegression\n",
        "from sklearn.feature_extraction.text import TfidfVectorizer\n",
        "from sklearn.feature_extraction.text import TfidfTransformer\n",
        "from sklearn.feature_extraction.text import CountVectorizer\n",
        "from sklearn.preprocessing import LabelEncoder\n",
        "from sklearn.model_selection import train_test_split\n",
        "from nltk.stem.porter import PorterStemmer\n",
        "from nltk.tokenize import word_tokenize\n",
        "from nltk.stem import WordNetLemmatizer\n",
        "import string\n",
        "import re\n",
        "from nltk.corpus import stopwords\n",
        "import nltk\n",
        "import pandas as pd\n",
        "import numpy as np\n",
        "import seaborn as sns\n"
      ]
    },
    {
      "cell_type": "code",
      "source": [
        "data = pd.read_csv(\"/content/dataLabeled.csv\")\n",
        "data.shape\n",
        "data.drop_duplicates(inplace=True)\n",
        "\n",
        "print(\"No of Unique Job Descriptions: \", data['Job_Description'].count())\n",
        "nltk.download('stopwords')\n",
        "stopword = stopwords.words('english')\n",
        "print(\"Stopwords:\", stopword)\n"
      ],
      "metadata": {
        "colab": {
          "base_uri": "https://localhost:8080/"
        },
        "id": "gi18J5cXJxa9",
        "outputId": "9c3041fa-d313-4698-97b0-1042ad2046bc"
      },
      "execution_count": 8,
      "outputs": [
        {
          "output_type": "stream",
          "name": "stdout",
          "text": [
            "No of Unique Job Descriptions:  1075\n",
            "Stopwords: ['i', 'me', 'my', 'myself', 'we', 'our', 'ours', 'ourselves', 'you', \"you're\", \"you've\", \"you'll\", \"you'd\", 'your', 'yours', 'yourself', 'yourselves', 'he', 'him', 'his', 'himself', 'she', \"she's\", 'her', 'hers', 'herself', 'it', \"it's\", 'its', 'itself', 'they', 'them', 'their', 'theirs', 'themselves', 'what', 'which', 'who', 'whom', 'this', 'that', \"that'll\", 'these', 'those', 'am', 'is', 'are', 'was', 'were', 'be', 'been', 'being', 'have', 'has', 'had', 'having', 'do', 'does', 'did', 'doing', 'a', 'an', 'the', 'and', 'but', 'if', 'or', 'because', 'as', 'until', 'while', 'of', 'at', 'by', 'for', 'with', 'about', 'against', 'between', 'into', 'through', 'during', 'before', 'after', 'above', 'below', 'to', 'from', 'up', 'down', 'in', 'out', 'on', 'off', 'over', 'under', 'again', 'further', 'then', 'once', 'here', 'there', 'when', 'where', 'why', 'how', 'all', 'any', 'both', 'each', 'few', 'more', 'most', 'other', 'some', 'such', 'no', 'nor', 'not', 'only', 'own', 'same', 'so', 'than', 'too', 'very', 's', 't', 'can', 'will', 'just', 'don', \"don't\", 'should', \"should've\", 'now', 'd', 'll', 'm', 'o', 're', 've', 'y', 'ain', 'aren', \"aren't\", 'couldn', \"couldn't\", 'didn', \"didn't\", 'doesn', \"doesn't\", 'hadn', \"hadn't\", 'hasn', \"hasn't\", 'haven', \"haven't\", 'isn', \"isn't\", 'ma', 'mightn', \"mightn't\", 'mustn', \"mustn't\", 'needn', \"needn't\", 'shan', \"shan't\", 'shouldn', \"shouldn't\", 'wasn', \"wasn't\", 'weren', \"weren't\", 'won', \"won't\", 'wouldn', \"wouldn't\"]\n"
          ]
        },
        {
          "output_type": "stream",
          "name": "stderr",
          "text": [
            "[nltk_data] Downloading package stopwords to /root/nltk_data...\n",
            "[nltk_data]   Package stopwords is already up-to-date!\n"
          ]
        }
      ]
    },
    {
      "cell_type": "code",
      "source": [
        "class_df = data.groupby('label').count()\n",
        "class_df.style.background_gradient(cmap='PiYG')\n"
      ],
      "metadata": {
        "colab": {
          "base_uri": "https://localhost:8080/",
          "height": 194
        },
        "id": "VOx0-V-YM7BF",
        "outputId": "945409a9-b44e-41af-c506-0b1d3120a2bb"
      },
      "execution_count": 28,
      "outputs": [
        {
          "output_type": "execute_result",
          "data": {
            "text/plain": [
              "<pandas.io.formats.style.Styler at 0x7fbfe19a2c70>"
            ],
            "text/html": [
              "<style type=\"text/css\">\n",
              "#T_14698_row0_col0, #T_14698_row0_col1, #T_14698_row0_col2, #T_14698_row0_col3, #T_14698_row0_col4, #T_14698_row0_col5, #T_14698_row0_col6, #T_14698_row0_col7, #T_14698_row0_col8, #T_14698_row0_col9, #T_14698_row0_col10, #T_14698_row0_col11, #T_14698_row0_col12, #T_14698_row0_col13, #T_14698_row0_col14, #T_14698_row0_col15, #T_14698_row0_col16, #T_14698_row0_col17, #T_14698_row0_col18 {\n",
              "  background-color: #276419;\n",
              "  color: #f1f1f1;\n",
              "}\n",
              "#T_14698_row1_col0, #T_14698_row1_col1, #T_14698_row1_col2, #T_14698_row1_col3, #T_14698_row1_col4, #T_14698_row1_col5, #T_14698_row1_col6, #T_14698_row1_col7, #T_14698_row1_col8, #T_14698_row1_col9, #T_14698_row1_col10, #T_14698_row1_col11, #T_14698_row1_col12, #T_14698_row1_col13, #T_14698_row1_col14, #T_14698_row1_col15, #T_14698_row1_col16, #T_14698_row1_col17, #T_14698_row1_col18 {\n",
              "  background-color: #8e0152;\n",
              "  color: #f1f1f1;\n",
              "}\n",
              "#T_14698_row2_col0, #T_14698_row2_col1, #T_14698_row2_col2, #T_14698_row2_col3, #T_14698_row2_col4, #T_14698_row2_col5, #T_14698_row2_col6, #T_14698_row2_col7, #T_14698_row2_col8, #T_14698_row2_col9, #T_14698_row2_col10, #T_14698_row2_col11, #T_14698_row2_col12, #T_14698_row2_col13, #T_14698_row2_col14, #T_14698_row2_col15, #T_14698_row2_col16, #T_14698_row2_col17, #T_14698_row2_col18 {\n",
              "  background-color: #faecf3;\n",
              "  color: #000000;\n",
              "}\n",
              "</style>\n",
              "<table id=\"T_14698\" class=\"dataframe\">\n",
              "  <thead>\n",
              "    <tr>\n",
              "      <th class=\"blank level0\" >&nbsp;</th>\n",
              "      <th id=\"T_14698_level0_col0\" class=\"col_heading level0 col0\" >X</th>\n",
              "      <th id=\"T_14698_level0_col1\" class=\"col_heading level0 col1\" >Title</th>\n",
              "      <th id=\"T_14698_level0_col2\" class=\"col_heading level0 col2\" >Company</th>\n",
              "      <th id=\"T_14698_level0_col3\" class=\"col_heading level0 col3\" >Location</th>\n",
              "      <th id=\"T_14698_level0_col4\" class=\"col_heading level0 col4\" >Type</th>\n",
              "      <th id=\"T_14698_level0_col5\" class=\"col_heading level0 col5\" >Salary</th>\n",
              "      <th id=\"T_14698_level0_col6\" class=\"col_heading level0 col6\" >Contract_type</th>\n",
              "      <th id=\"T_14698_level0_col7\" class=\"col_heading level0 col7\" >Job_Description</th>\n",
              "      <th id=\"T_14698_level0_col8\" class=\"col_heading level0 col8\" >JobType</th>\n",
              "      <th id=\"T_14698_level0_col9\" class=\"col_heading level0 col9\" >Industry</th>\n",
              "      <th id=\"T_14698_level0_col10\" class=\"col_heading level0 col10\" >experience</th>\n",
              "      <th id=\"T_14698_level0_col11\" class=\"col_heading level0 col11\" >exp_normailzed</th>\n",
              "      <th id=\"T_14698_level0_col12\" class=\"col_heading level0 col12\" >type_norm</th>\n",
              "      <th id=\"T_14698_level0_col13\" class=\"col_heading level0 col13\" >Contract_type_norm</th>\n",
              "      <th id=\"T_14698_level0_col14\" class=\"col_heading level0 col14\" >salary1</th>\n",
              "      <th id=\"T_14698_level0_col15\" class=\"col_heading level0 col15\" >salary_min</th>\n",
              "      <th id=\"T_14698_level0_col16\" class=\"col_heading level0 col16\" >salary_max</th>\n",
              "      <th id=\"T_14698_level0_col17\" class=\"col_heading level0 col17\" >salary_avg</th>\n",
              "      <th id=\"T_14698_level0_col18\" class=\"col_heading level0 col18\" >salary_norm</th>\n",
              "    </tr>\n",
              "    <tr>\n",
              "      <th class=\"index_name level0\" >label</th>\n",
              "      <th class=\"blank col0\" >&nbsp;</th>\n",
              "      <th class=\"blank col1\" >&nbsp;</th>\n",
              "      <th class=\"blank col2\" >&nbsp;</th>\n",
              "      <th class=\"blank col3\" >&nbsp;</th>\n",
              "      <th class=\"blank col4\" >&nbsp;</th>\n",
              "      <th class=\"blank col5\" >&nbsp;</th>\n",
              "      <th class=\"blank col6\" >&nbsp;</th>\n",
              "      <th class=\"blank col7\" >&nbsp;</th>\n",
              "      <th class=\"blank col8\" >&nbsp;</th>\n",
              "      <th class=\"blank col9\" >&nbsp;</th>\n",
              "      <th class=\"blank col10\" >&nbsp;</th>\n",
              "      <th class=\"blank col11\" >&nbsp;</th>\n",
              "      <th class=\"blank col12\" >&nbsp;</th>\n",
              "      <th class=\"blank col13\" >&nbsp;</th>\n",
              "      <th class=\"blank col14\" >&nbsp;</th>\n",
              "      <th class=\"blank col15\" >&nbsp;</th>\n",
              "      <th class=\"blank col16\" >&nbsp;</th>\n",
              "      <th class=\"blank col17\" >&nbsp;</th>\n",
              "      <th class=\"blank col18\" >&nbsp;</th>\n",
              "    </tr>\n",
              "  </thead>\n",
              "  <tbody>\n",
              "    <tr>\n",
              "      <th id=\"T_14698_level0_row0\" class=\"row_heading level0 row0\" >High</th>\n",
              "      <td id=\"T_14698_row0_col0\" class=\"data row0 col0\" >719</td>\n",
              "      <td id=\"T_14698_row0_col1\" class=\"data row0 col1\" >719</td>\n",
              "      <td id=\"T_14698_row0_col2\" class=\"data row0 col2\" >717</td>\n",
              "      <td id=\"T_14698_row0_col3\" class=\"data row0 col3\" >719</td>\n",
              "      <td id=\"T_14698_row0_col4\" class=\"data row0 col4\" >719</td>\n",
              "      <td id=\"T_14698_row0_col5\" class=\"data row0 col5\" >719</td>\n",
              "      <td id=\"T_14698_row0_col6\" class=\"data row0 col6\" >719</td>\n",
              "      <td id=\"T_14698_row0_col7\" class=\"data row0 col7\" >719</td>\n",
              "      <td id=\"T_14698_row0_col8\" class=\"data row0 col8\" >719</td>\n",
              "      <td id=\"T_14698_row0_col9\" class=\"data row0 col9\" >719</td>\n",
              "      <td id=\"T_14698_row0_col10\" class=\"data row0 col10\" >719</td>\n",
              "      <td id=\"T_14698_row0_col11\" class=\"data row0 col11\" >719</td>\n",
              "      <td id=\"T_14698_row0_col12\" class=\"data row0 col12\" >719</td>\n",
              "      <td id=\"T_14698_row0_col13\" class=\"data row0 col13\" >719</td>\n",
              "      <td id=\"T_14698_row0_col14\" class=\"data row0 col14\" >719</td>\n",
              "      <td id=\"T_14698_row0_col15\" class=\"data row0 col15\" >719</td>\n",
              "      <td id=\"T_14698_row0_col16\" class=\"data row0 col16\" >719</td>\n",
              "      <td id=\"T_14698_row0_col17\" class=\"data row0 col17\" >719</td>\n",
              "      <td id=\"T_14698_row0_col18\" class=\"data row0 col18\" >719</td>\n",
              "    </tr>\n",
              "    <tr>\n",
              "      <th id=\"T_14698_level0_row1\" class=\"row_heading level0 row1\" >Low</th>\n",
              "      <td id=\"T_14698_row1_col0\" class=\"data row1 col0\" >20</td>\n",
              "      <td id=\"T_14698_row1_col1\" class=\"data row1 col1\" >20</td>\n",
              "      <td id=\"T_14698_row1_col2\" class=\"data row1 col2\" >20</td>\n",
              "      <td id=\"T_14698_row1_col3\" class=\"data row1 col3\" >20</td>\n",
              "      <td id=\"T_14698_row1_col4\" class=\"data row1 col4\" >20</td>\n",
              "      <td id=\"T_14698_row1_col5\" class=\"data row1 col5\" >20</td>\n",
              "      <td id=\"T_14698_row1_col6\" class=\"data row1 col6\" >20</td>\n",
              "      <td id=\"T_14698_row1_col7\" class=\"data row1 col7\" >20</td>\n",
              "      <td id=\"T_14698_row1_col8\" class=\"data row1 col8\" >20</td>\n",
              "      <td id=\"T_14698_row1_col9\" class=\"data row1 col9\" >20</td>\n",
              "      <td id=\"T_14698_row1_col10\" class=\"data row1 col10\" >20</td>\n",
              "      <td id=\"T_14698_row1_col11\" class=\"data row1 col11\" >20</td>\n",
              "      <td id=\"T_14698_row1_col12\" class=\"data row1 col12\" >20</td>\n",
              "      <td id=\"T_14698_row1_col13\" class=\"data row1 col13\" >20</td>\n",
              "      <td id=\"T_14698_row1_col14\" class=\"data row1 col14\" >20</td>\n",
              "      <td id=\"T_14698_row1_col15\" class=\"data row1 col15\" >20</td>\n",
              "      <td id=\"T_14698_row1_col16\" class=\"data row1 col16\" >20</td>\n",
              "      <td id=\"T_14698_row1_col17\" class=\"data row1 col17\" >20</td>\n",
              "      <td id=\"T_14698_row1_col18\" class=\"data row1 col18\" >20</td>\n",
              "    </tr>\n",
              "    <tr>\n",
              "      <th id=\"T_14698_level0_row2\" class=\"row_heading level0 row2\" >Medium</th>\n",
              "      <td id=\"T_14698_row2_col0\" class=\"data row2 col0\" >336</td>\n",
              "      <td id=\"T_14698_row2_col1\" class=\"data row2 col1\" >336</td>\n",
              "      <td id=\"T_14698_row2_col2\" class=\"data row2 col2\" >334</td>\n",
              "      <td id=\"T_14698_row2_col3\" class=\"data row2 col3\" >336</td>\n",
              "      <td id=\"T_14698_row2_col4\" class=\"data row2 col4\" >336</td>\n",
              "      <td id=\"T_14698_row2_col5\" class=\"data row2 col5\" >336</td>\n",
              "      <td id=\"T_14698_row2_col6\" class=\"data row2 col6\" >336</td>\n",
              "      <td id=\"T_14698_row2_col7\" class=\"data row2 col7\" >336</td>\n",
              "      <td id=\"T_14698_row2_col8\" class=\"data row2 col8\" >336</td>\n",
              "      <td id=\"T_14698_row2_col9\" class=\"data row2 col9\" >336</td>\n",
              "      <td id=\"T_14698_row2_col10\" class=\"data row2 col10\" >336</td>\n",
              "      <td id=\"T_14698_row2_col11\" class=\"data row2 col11\" >336</td>\n",
              "      <td id=\"T_14698_row2_col12\" class=\"data row2 col12\" >336</td>\n",
              "      <td id=\"T_14698_row2_col13\" class=\"data row2 col13\" >336</td>\n",
              "      <td id=\"T_14698_row2_col14\" class=\"data row2 col14\" >336</td>\n",
              "      <td id=\"T_14698_row2_col15\" class=\"data row2 col15\" >336</td>\n",
              "      <td id=\"T_14698_row2_col16\" class=\"data row2 col16\" >336</td>\n",
              "      <td id=\"T_14698_row2_col17\" class=\"data row2 col17\" >336</td>\n",
              "      <td id=\"T_14698_row2_col18\" class=\"data row2 col18\" >336</td>\n",
              "    </tr>\n",
              "  </tbody>\n",
              "</table>\n"
            ]
          },
          "metadata": {},
          "execution_count": 28
        }
      ]
    },
    {
      "cell_type": "code",
      "source": [
        "def clean(job):\n",
        "    job = job.lower()  # lower case\n",
        "    job = re.sub(r'https?://\\S+|www\\.\\S+', \" \", job)  # URL\n",
        "    # job = re.sub(r'@\\w+', ' ', job)  # mentions\n",
        "    # job = re.sub(r'#\\w+', ' ', job)  # hashtags\n",
        "    job = re.sub(r'[^\\w\\s]', ' ', job)  # punctuations\n",
        "    # job = re.sub(r'\\d+', ' ', job)  # digits\n",
        "    job = re.sub('\\[.*?\\]', ' ', job)  # any punctuations left\n",
        "    # any others charcters other than numbers and letters\n",
        "    job = re.sub(\"[^a-z0-9]\", \" \", job)\n",
        "    job = job.split()  # stopwords\n",
        "    job = \" \".join([word for word in job if not word in stopword])\n",
        "    return job"
      ],
      "metadata": {
        "id": "LD9arcc_J2bP"
      },
      "execution_count": 9,
      "outputs": []
    },
    {
      "cell_type": "code",
      "source": [
        "data.head"
      ],
      "metadata": {
        "colab": {
          "base_uri": "https://localhost:8080/"
        },
        "id": "wuuIi6pJJ-6T",
        "outputId": "dfd8d7ba-0405-487a-a880-b5b0f7dee7b9"
      },
      "execution_count": 10,
      "outputs": [
        {
          "output_type": "execute_result",
          "data": {
            "text/plain": [
              "<bound method NDFrame.head of         X                                              Title  \\\n",
              "0      10                       Investment Banking Associate   \n",
              "1      20       Associate Project Finance Investment Banking   \n",
              "2      22  Senior Consultant - AML Transaction Monitoring...   \n",
              "3      25                         Senior Relationship Banker   \n",
              "4      31  Analyst, Global Corporate Investment Banking -...   \n",
              "...   ...                                                ...   \n",
              "1080  300                     Senior Data Analytics Engineer   \n",
              "1081  302                 Power System Automation Specialist   \n",
              "1082  303                                  Firmware Engineer   \n",
              "1083  304                         Embedded Software Engineer   \n",
              "1084  310                PSG Rotation Program Field Engineer   \n",
              "\n",
              "                                  Company            Location           Type  \\\n",
              "0                              Q Advisors    Denver, CO 80202  Hybrid remote   \n",
              "1                                    MUFG  New York, NY 10020         Onsite   \n",
              "2                          Vitae Advisors              Remote         Onsite   \n",
              "3                           Turn2Partners              Remote         Onsite   \n",
              "4                                    MUFG   Chicago, IL 60606         Onsite   \n",
              "...                                   ...                 ...            ...   \n",
              "1080               INPOSIA Solutions GmbH              Remote         Onsite   \n",
              "1081  Schweitzer Engineering Laboratories   Houston, TX 77072         Onsite   \n",
              "1082                     Gradient Comfort   San Francisco, CA         Remote   \n",
              "1083                  Venture Connections   Warner Robins, GA         Onsite   \n",
              "1084                                INTEL        San Jose, CA  Hybrid remote   \n",
              "\n",
              "                    Salary Contract_type  \\\n",
              "0     $140,000 - $175,000      Full-time   \n",
              "1     $150,000 - $175,000      Full-time   \n",
              "2               $30 - $42       Contract   \n",
              "3               $24 - $29       Contract   \n",
              "4      $90,000 - $110,000      Full-time   \n",
              "...                    ...           ...   \n",
              "1080  $157,300 - $259,500       Contract   \n",
              "1081   $73,150 - $114,400      Full-time   \n",
              "1082  $110,000 - $185,000       Contract   \n",
              "1083   $82,000 - $140,000      Full-time   \n",
              "1084   $81,190 - $130,150      Full-time   \n",
              "\n",
              "                                        Job_Description  \\\n",
              "0     Overview:\\r\\nQ Advisors is actively seeking an...   \n",
              "1     Do you want your voice heard and your actions ...   \n",
              "2     We are actively supporting a team to review th...   \n",
              "3     We are working on a contract-to-hire Senior Re...   \n",
              "4     Do you want your voice heard and your actions ...   \n",
              "...                                                 ...   \n",
              "1080  Job Description\\r\\nOverview\\r\\nWe are building...   \n",
              "1081  The devices we make at SEL are embedded in the...   \n",
              "1082  Gradient's mission is to cool the world by tra...   \n",
              "1083  Seeking a highly motivated and creative Embedd...   \n",
              "1084  Job Description\\r\\n\\r\\nThis is a commissioned ...   \n",
              "\n",
              "                       JobType                Industry experience  \\\n",
              "0                      Banking                 Finance     1 year   \n",
              "1                      Banking                 Finance    3 years   \n",
              "2                      Banking                 Finance   4+ years   \n",
              "3                      Banking                 Finance   2+ years   \n",
              "4                      Banking                 Finance    3 years   \n",
              "...                        ...                     ...        ...   \n",
              "1080  System Embedded Engineer  Electrical Engineering    5 years   \n",
              "1081  System Embedded Engineer  Electrical Engineering   4+ years   \n",
              "1082  System Embedded Engineer  Electrical Engineering   30 years   \n",
              "1083  System Embedded Engineer  Electrical Engineering    5 years   \n",
              "1084  System Embedded Engineer  Electrical Engineering   4+ years   \n",
              "\n",
              "      exp_normailzed  type_norm  Contract_type_norm               salary1  \\\n",
              "0                0.1  -2.365042                   1  $140,000 - $175,000    \n",
              "1                0.3  -0.063127                   1  $150,000 - $175,000    \n",
              "2                0.4  -0.063127                   0            $30 - $42    \n",
              "3                0.2  -0.063127                   0            $24 - $29    \n",
              "4                0.3  -0.063127                   1   $90,000 - $110,000    \n",
              "...              ...        ...                 ...                   ...   \n",
              "1080             0.5  -0.063127                   0  $157,300 - $259,500    \n",
              "1081             0.4  -0.063127                   1   $73,150 - $114,400    \n",
              "1082             3.0   2.238789                   0  $110,000 - $185,000    \n",
              "1083             0.5  -0.063127                   1   $82,000 - $140,000    \n",
              "1084             0.4  -2.365042                   1   $81,190 - $130,150    \n",
              "\n",
              "      salary_min  salary_max  salary_avg  salary_norm   label  \n",
              "0       140000.0    175000.0    157500.0     157500.0    High  \n",
              "1       150000.0    175000.0    162500.0     162500.0    High  \n",
              "2           30.0        42.0        36.0      74880.0  Medium  \n",
              "3           24.0        29.0        26.5      55120.0  Medium  \n",
              "4        90000.0    110000.0    100000.0     100000.0  Medium  \n",
              "...          ...         ...         ...          ...     ...  \n",
              "1080    157300.0    259500.0    208400.0     208400.0    High  \n",
              "1081     73150.0    114400.0     93775.0      93775.0  Medium  \n",
              "1082    110000.0    185000.0    147500.0     147500.0    High  \n",
              "1083     82000.0    140000.0    111000.0     111000.0    High  \n",
              "1084     81190.0    130150.0    105670.0     105670.0    High  \n",
              "\n",
              "[1075 rows x 20 columns]>"
            ]
          },
          "metadata": {},
          "execution_count": 10
        }
      ]
    },
    {
      "cell_type": "code",
      "source": [
        "data['Job_Description'] = data['Job_Description'].astype(\n",
        "    str).apply(lambda x: clean(x))\n",
        "data['Job_Description'].sample(5)\n",
        "\n",
        "max_len = len(max(data['Job_Description'], key=len))\n",
        "print(\"Maximum length of Job Decription:\", max_len)"
      ],
      "metadata": {
        "colab": {
          "base_uri": "https://localhost:8080/"
        },
        "id": "hGi3z678J5st",
        "outputId": "97e92266-0534-444e-ee4f-5f1542d1471e"
      },
      "execution_count": 12,
      "outputs": [
        {
          "output_type": "stream",
          "name": "stdout",
          "text": [
            "Maximum length of Job Decription: 19111\n"
          ]
        }
      ]
    },
    {
      "cell_type": "code",
      "source": [
        "nltk.download('omw-1.4')\n",
        "nltk.download('wordnet')"
      ],
      "metadata": {
        "colab": {
          "base_uri": "https://localhost:8080/"
        },
        "id": "Gd5sbIAlK5Ju",
        "outputId": "f1d6771a-a7c6-4262-d558-60698aa75ceb"
      },
      "execution_count": 13,
      "outputs": [
        {
          "output_type": "stream",
          "name": "stderr",
          "text": [
            "[nltk_data] Downloading package omw-1.4 to /root/nltk_data...\n",
            "[nltk_data] Downloading package wordnet to /root/nltk_data...\n"
          ]
        },
        {
          "output_type": "execute_result",
          "data": {
            "text/plain": [
              "True"
            ]
          },
          "metadata": {},
          "execution_count": 13
        }
      ]
    },
    {
      "cell_type": "code",
      "source": [
        "tokenizer = nltk.tokenize.WhitespaceTokenizer()\n",
        "lemmatizer = WordNetLemmatizer()\n",
        "\n",
        "\n",
        "def lemmatize_jobs(job):\n",
        "    temp = \"\"\n",
        "    for w in tokenizer.tokenize(job):\n",
        "        temp = temp + lemmatizer.lemmatize(w) + \" \"\n",
        "    return temp\n"
      ],
      "metadata": {
        "id": "WDUULtygK9GZ"
      },
      "execution_count": 14,
      "outputs": []
    },
    {
      "cell_type": "code",
      "source": [
        "data['Job_Description'] = data['Job_Description'].apply(\n",
        "    lambda x: lemmatize_jobs(x))"
      ],
      "metadata": {
        "id": "qg9DD1X3LGpz"
      },
      "execution_count": 17,
      "outputs": []
    },
    {
      "cell_type": "code",
      "source": [
        "stemmer = PorterStemmer()\n",
        "\n",
        "def stem_jobs(job):\n",
        "    temp = \"\"\n",
        "    for w in tokenizer.tokenize(job):\n",
        "        temp = temp + stemmer.stem(w) + \" \"\n",
        "    return temp\n",
        "\n",
        "\n",
        "data['Job_Description'] = data['Job_Description'].apply(lambda x: stem_jobs(x))\n",
        "\n",
        "x = data['Job_Description']\n",
        "y = data['label']"
      ],
      "metadata": {
        "id": "1qOky_Y8LCIZ"
      },
      "execution_count": 20,
      "outputs": []
    },
    {
      "cell_type": "code",
      "source": [
        "train_X, test_X, train_Y, test_Y = train_test_split(x, y, test_size=0.2, random_state=42, stratify=y)\n",
        "\n",
        "train_X.shape"
      ],
      "metadata": {
        "colab": {
          "base_uri": "https://localhost:8080/"
        },
        "id": "aUYUEdHHLu5E",
        "outputId": "168e09e2-f80f-40aa-8d80-57fb59a081e7"
      },
      "execution_count": 21,
      "outputs": [
        {
          "output_type": "execute_result",
          "data": {
            "text/plain": [
              "(860,)"
            ]
          },
          "metadata": {},
          "execution_count": 21
        }
      ]
    },
    {
      "cell_type": "code",
      "source": [
        "test_Y.shape"
      ],
      "metadata": {
        "colab": {
          "base_uri": "https://localhost:8080/"
        },
        "id": "n5kXLI4_MJkv",
        "outputId": "52f38d8e-60db-4a9f-9ecd-dd742a07cdd3"
      },
      "execution_count": 22,
      "outputs": [
        {
          "output_type": "execute_result",
          "data": {
            "text/plain": [
              "(215,)"
            ]
          },
          "metadata": {},
          "execution_count": 22
        }
      ]
    },
    {
      "cell_type": "code",
      "source": [
        "encoder = LabelEncoder()\n",
        "train_Y = encoder.fit_transform(train_Y)\n",
        "test_Y = encoder.fit_transform(test_Y)"
      ],
      "metadata": {
        "id": "GDOUGPXPMMSV"
      },
      "execution_count": 23,
      "outputs": []
    },
    {
      "cell_type": "code",
      "source": [
        "vectorizer = TfidfVectorizer(ngram_range=(1, 3)).fit(train_X)\n",
        "train_X_tfidf = vectorizer.transform(train_X)\n",
        "test_X_tfidf = vectorizer.transform(test_X)"
      ],
      "metadata": {
        "id": "1GM-F1RLMRY3"
      },
      "execution_count": 24,
      "outputs": []
    },
    {
      "cell_type": "code",
      "source": [
        "lr = LogisticRegression(penalty=\"l2\", multi_class=\"multinomial\", solver=\"saga\", C=1)\n",
        "lr.fit(train_X_tfidf, train_Y)\n",
        "lr_pred = lr.predict(test_X_tfidf)\n",
        "print(\"LR TFIDF Accuracy Score -> \", accuracy_score(lr_pred, test_Y)*100)"
      ],
      "metadata": {
        "colab": {
          "base_uri": "https://localhost:8080/"
        },
        "id": "LkOHNomcMawu",
        "outputId": "3ae6baef-f913-43a6-ac12-f3bd766c7d9c"
      },
      "execution_count": 26,
      "outputs": [
        {
          "output_type": "stream",
          "name": "stdout",
          "text": [
            "LR TFIDF Accuracy Score ->  80.93023255813954\n"
          ]
        },
        {
          "output_type": "stream",
          "name": "stderr",
          "text": [
            "/usr/local/lib/python3.9/dist-packages/sklearn/linear_model/_sag.py:350: ConvergenceWarning: The max_iter was reached which means the coef_ did not converge\n",
            "  warnings.warn(\n"
          ]
        }
      ]
    },
    {
      "cell_type": "code",
      "source": [
        "lr_cm = confusion_matrix(test_Y, lr_pred, normalize=\"true\")\n",
        "sns.heatmap(lr_cm, annot=True)\n",
        "print(\"LR TFIDF F1 Score -> \", f1_score(test_Y, lr_pred, average='macro'))\n",
        "print(\"LR TFIDF Classification Report -> \",\n",
        "      classification_report(test_Y, lr_pred))"
      ],
      "metadata": {
        "colab": {
          "base_uri": "https://localhost:8080/",
          "height": 584
        },
        "id": "kmDI-a3sMs83",
        "outputId": "99a7d79f-2d28-4bab-921b-b041b0db1243"
      },
      "execution_count": 27,
      "outputs": [
        {
          "output_type": "stream",
          "name": "stdout",
          "text": [
            "LR TFIDF F1 Score ->  0.5104043064278065\n",
            "LR TFIDF Classification Report ->                precision    recall  f1-score   support\n",
            "\n",
            "           0       0.80      0.96      0.87       144\n",
            "           1       0.00      0.00      0.00         4\n",
            "           2       0.86      0.54      0.66        67\n",
            "\n",
            "    accuracy                           0.81       215\n",
            "   macro avg       0.55      0.50      0.51       215\n",
            "weighted avg       0.80      0.81      0.79       215\n",
            "\n"
          ]
        },
        {
          "output_type": "stream",
          "name": "stderr",
          "text": [
            "/usr/local/lib/python3.9/dist-packages/sklearn/metrics/_classification.py:1344: UndefinedMetricWarning: Precision and F-score are ill-defined and being set to 0.0 in labels with no predicted samples. Use `zero_division` parameter to control this behavior.\n",
            "  _warn_prf(average, modifier, msg_start, len(result))\n",
            "/usr/local/lib/python3.9/dist-packages/sklearn/metrics/_classification.py:1344: UndefinedMetricWarning: Precision and F-score are ill-defined and being set to 0.0 in labels with no predicted samples. Use `zero_division` parameter to control this behavior.\n",
            "  _warn_prf(average, modifier, msg_start, len(result))\n",
            "/usr/local/lib/python3.9/dist-packages/sklearn/metrics/_classification.py:1344: UndefinedMetricWarning: Precision and F-score are ill-defined and being set to 0.0 in labels with no predicted samples. Use `zero_division` parameter to control this behavior.\n",
            "  _warn_prf(average, modifier, msg_start, len(result))\n"
          ]
        },
        {
          "output_type": "display_data",
          "data": {
            "text/plain": [
              "<Figure size 432x288 with 2 Axes>"
            ],
            "image/png": "[encoded data removed]"
          },
          "metadata": {
            "needs_background": "light"
          }
        }
      ]
    }
  ]
}